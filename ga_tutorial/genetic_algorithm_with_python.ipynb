{
 "cells": [
  {
   "cell_type": "markdown",
   "metadata": {},
   "source": [
    "# Genetic algorithm with python\n",
    "\n",
    "### Importance\n",
    "Genetic algorithm is a stochastic optimization method inspired by the phenomenon of evolution.\n",
    "It is widely used to find the optimal solution for systems with wide variety of complexity levels.\n",
    "Some of its important applications include optimizing hyperparameters of neural networks, decision trees, etc. \n",
    " \n",
    "### Scope of tutorial and what you learn\n",
    "\n",
    "In this tutorial, we introduce the basics of Genetic algorithm. \n",
    "We also develop a module for genetic algorithm in Python language. \n",
    "We use the code and some examples to demonstrate how this technique really works. \n",
    "\n",
    "### Outline\n",
    "\n",
    "\\- [What is Genetic Algorithm?](#def)<br>\n",
    "\\- [Genetic algorithm basics](#basics)<br>\n",
    "&emsp;\\- [Binary representation of a variable](#binary)<br>\n",
    "&emsp;\\- [Binary representation of a potential solution with multiple variables](#binary-multivar)<br>\n",
    "&emsp;\\- [Fitness function and fitness value](#fitness)<br>\n",
    "\\- [Genetic algorithm steps](#steps)<br>\n",
    "\\- [Genetic algorithm implementation in Python](#ga-python)<br>\n",
    "\\- [Examples](#examples)<br>\n",
    "&emsp;\\- [Example #1: Univariate Function](#example-1)<br>\n",
    "&emsp;\\- [Example #2: Multivariable & Multimodal Problem](#example-2)<br>\n",
    "\\- [Recap](#recap)<br>\n",
    "\\- [Quiz](#quiz)<br>"
   ]
  },
  {
   "cell_type": "markdown",
   "metadata": {},
   "source": [
    "<a id='def'></a>\n",
    "## What is Genetic Algorithm?\n",
    "\n",
    "Genetic algorithm (GA) is a metaheuristic inspired by the process of natural selection.\n",
    "It aims at finding a partial search algorithm that may provide a sufficiently good solution for a given optimization problem.\n",
    "In order to achieve that, GA tries to use the biologically-inspired operators such as mutation, crossover and \n",
    "selection. Some of the GA applications include optimizing hyperparameters of a neural network, decision trees, etc. "
   ]
  },
  {
   "cell_type": "markdown",
   "metadata": {},
   "source": [
    "<a id='basics'></a>\n",
    "## Genetic algorithm basics"
   ]
  },
  {
   "cell_type": "markdown",
   "metadata": {},
   "source": [
    "<a id='binary'></a>\n",
    "### Binary representation of a variable\n",
    "In genetic algorithm, each variable is considered as a binary sequence with a specified length.\n",
    "For example <font color=\"red\">x=14</font> can be represented as <font color=\"red\">1110</font> if you choose to have 4 bits, or <font color=\"red\">001110</font> if you choose to have 6 bits.\n",
    "\n",
    "You can use the built-in function **bin** to convert an **integer** number to a binary string prefixed with \"0b\" as shown below:"
   ]
  },
  {
   "cell_type": "code",
   "execution_count": 1,
   "metadata": {},
   "outputs": [
    {
     "data": {
      "text/plain": [
       "'0b1110'"
      ]
     },
     "execution_count": 1,
     "metadata": {},
     "output_type": "execute_result"
    }
   ],
   "source": [
    "bin(14)"
   ]
  },
  {
   "cell_type": "code",
   "execution_count": 2,
   "metadata": {},
   "outputs": [
    {
     "data": {
      "text/plain": [
       "'-0b1110'"
      ]
     },
     "execution_count": 2,
     "metadata": {},
     "output_type": "execute_result"
    }
   ],
   "source": [
    "bin(-14)"
   ]
  },
  {
   "cell_type": "markdown",
   "metadata": {},
   "source": [
    "However, we are not limited to integer type when using GA. So, you may ask _how to represent float variables as a binary sequence?!_ Let me explain it.\n",
    "\n",
    "The idea behind GA is to search for an optimal solution over a specified parameter space. \n",
    "For example, let's assume we look for the maximum of a univariate function like $f(x)=1-x^2+3x^3-x^4$ over \\[-5,5\\].\n",
    "Let's say we consider 4 bits to represent the **x** variable. The search space \\[-5,5\\] is then divided into $2^4$ bins of 0.625-unit long, _i.e._ $(5-(-5))/16$."
   ]
  },
  {
   "cell_type": "markdown",
   "metadata": {},
   "source": [
    "Now, each float value can be represented by one of the 16 bins. For example:\n",
    "<br>\n",
    "<br>\n",
    "<font color=\"green\">\n",
    "Any value smaller than -4.375 falls in the first bin with index of 0.<br>\n",
    "Any value in the range \\[-4.375, -3.75) falls in the second bin with index of 1.<br>\n",
    "Any value in the range \\[-3.75, -3.125) falls in the third bin with index of 2.<br>\n",
    "...<br>\n",
    "Any value equal to or greater than 4.375 falls in the last bin with index of 15.<br>\n",
    "</font>"
   ]
  },
  {
   "cell_type": "markdown",
   "metadata": {},
   "source": [
    "As a result, now, we can represent any float value as a binary sequence with a finite number of bits. \n",
    "For example: \n",
    "<br>\n",
    "<br>\n",
    "<font color=\"red\">x=-4.5</font> falls in the first bin with index of 0, and is represented as <font color=\"red\">0000</font>.<br>\n",
    "\n",
    "<font color=\"red\">x=-0.5</font> falls in the bin with index of 7, and is represented as <font color=\"red\">0111</font>.<br>\n",
    "\n",
    "<font color=\"red\">x=1.674902302395</font> falls in the bin with index of 10, and is represented as <font color=\"red\">1010</font>.<br>\n",
    "\n",
    "<font color=\"red\">x=1.674902302395</font> falls in the bin with index of 10, and is represented as <font color=\"red\">1010</font>.<br>\n",
    "\n",
    "<font color=\"red\">x=4.75</font> falls in the bin with index of 15, and is represented as <font color=\"red\">1111</font>.<br>\n",
    "\n",
    "\n",
    "\n",
    "You may have already noticed that one of the ramifications of this approach is that, we lose accuracy. That is, an infinite number of different float values can be represented by the same binary sequence. For example, 0.1, 0.2, 0.3, 0.4, 0.5, 0.6, and any other value in the range \\[0, 0.625) is represented by the bin with index of 8. That means, if we find the optimal solution, it can potentially have some level of error due to the fact that we represent an infinite space with a finite set of bins. However, as mentioned previously, the genetic algorithm aims at finding an optimal solution that is sufficiently good. Its goal is not to find the exact optimal solution. After all, the genetic algorithm is a stochastic optimization technique!\n",
    "\n",
    "The error associated with binning the space can be theoretically reduced by increasing the number of bits; the more number of bits, the smaller the size of the bins, and the higher the resolution/accuracy. However, the computational cost increases with the number of bits. So, there should be a trade-off between the resolution and the computational cost."
   ]
  },
  {
   "cell_type": "markdown",
   "metadata": {},
   "source": [
    "<a id='binary-multivar'></a>\n",
    "### Binary representation of a potential solution with multiple variables\n",
    "\n",
    "The genetic algorithm considers each potential solution as a binary sequence, also called **chromosome** (a term borrowed from biology), representing all the unknown variables. For example, let's assume we want to find the optimal solution for a problem with four variables: $u$, $v$, $x$, and $y$. If we consider four bits to represent each variable, each potential solution sequence will consist of 16 bits; four bits for each variable:<br>\n",
    "\n",
    "<font color=\"red\">$u=u_0u_1u_2u_3$</font>,<br>\n",
    "<font color=\"green\">$v=v_0v_1v_2v_3$</font>,<br>\n",
    "<font color=\"blue\">$x=x_0x_1x_2x_3$</font>, and<br>\n",
    "<font color=\"orange\">$y=y_0y_1y_2y_3$</font>.\n",
    "\n",
    "To better understand the concept, assume each variable can vary in the range \\[-5,5\\].\n",
    "Then, the sequence <font color=\"red\">1101</font><font color=\"green\">0101</font><font color=\"blue\">0010</font><font color=\"orange\">1111</font>\n",
    "represents the variables \n",
    "<font color=\"red\">u=3.2</font>,\n",
    "<font color=\"green\">v=-1.4142</font>,\n",
    "<font color=\"blue\">x=-3.1415</font>, and\n",
    "<font color=\"orange\">y=4.81</font>."
   ]
  },
  {
   "cell_type": "markdown",
   "metadata": {},
   "source": [
    "<a id='fitness'></a>\n",
    "### Fitness function and fitness value\n",
    "\n",
    "In genetic algorithm, a potential solution is assessed and assigned a score reflecting how good/fit it is.\n",
    "The assessment is done using a function called **fitness function**. \n",
    "Fitness function gets a potential solution as input and outputs a score that is called **fitness value**.\n",
    "The fitness value is an indicator showing how **fit**, or how good, the solution is."
   ]
  },
  {
   "cell_type": "markdown",
   "metadata": {},
   "source": [
    "<a id='steps'></a>\n",
    "## Genetic algorithm steps\n",
    "\n",
    "The genetic algorithm starts with an initial randomly-chosen pool/population of candidates. Each candidate is a binary sequence (chromosome) representing all the unknown variables.\n",
    "The initial population of chromosomes forms the first **generation**.\n",
    "\n",
    "The underlying idea of genetic algorithm is to let the chromosomes evolve from one generation to another, to lead to populations with chromosomes that have higher quality (higher fitness values). \n",
    "In order to achieve that, the genetic algorithm applies multiple biologically-inspired operations on the population of each generation, the most common ones of which are **selection**, **crossover**, and **mutation**.\n",
    "\n",
    "### Selection\n",
    "This operator aims at selecting some of the fittest chromosomes to serve as **parents** for producing the next generation of chromosomes (**children**). \n",
    "There are various ways to implement a selection operator.\n",
    "\n",
    "We can select the parents based on a probability distribution derived from the fitness values distribution. In this approach, the chromosomes with higher fitness values are more likely to be selected.\n",
    "To make it more clear, assume we have <font color=\"navy\">3 chromosomes</font> with fitness values of \n",
    "<font color=\"red\">0.5</font>, <font color=\"blue\">1.5</font>, and <font color=\"green\">4.0</font>.<br>\n",
    "\n",
    "The probability of the <font color=\"red\">first chromosome</font> to be selected is $0.5/(0.5+1.5+4.0)=1/12\\sim$ <font color=\"red\">0.083</font>.<br>\n",
    "\n",
    "The probability of the <font color=\"blue\">second chromosome</font> to be selected is $1.5/(0.5+1.5+4.0)=3/12=$ <font color=\"blue\">0.25</font>.<br>\n",
    "\n",
    "The probability of the <font color=\"green\">third chromosome</font> to be selected is $4.0/(0.5+1.5+4.0)=8/12\\sim$ <font color=\"green\">0.667</font>.<br>\n",
    "\n",
    "***Tournament selection***, is another selection algorithm. In this method, we randomly choose _k_ candidates from the population. From the _k_ chosen chromosomes, we select the one with the highest fitness value as the selected parent. We can repeat this process as many times as needed to select all the parents that we need.\n",
    "\n",
    "### Crossover\n",
    "This operator aims at mimicking the recombination of chromosomes.\n",
    "It acts on a pair of parent chromosomes to create two children.\n",
    "The way it is accomplished is by randomly selecting one of the bits of the chromosomes as the split point.\n",
    "Both parent chromosomes are split from the same split point.\n",
    "The two children chromosomes are, then, created by swapping one of the two resulted segments of the parent chromosomes.\n",
    "\n",
    "For example, assume we want to apply the crossover operation on two chromosomes <font color=\"green\">110100101101</font> and <font color=\"green\">011001111000</font>, and the _current_ split point is randomly chosen to be the fourth bit of chromosomes. That means, each chromosome is split into two segments from its fourth bit:<br>\n",
    "\n",
    "<font color=\"red\">110</font><font color=\"blue\">100101101</font><br>\n",
    "<font color=\"green\">011</font><font color=\"orange\">001111000</font><br>\n",
    "\n",
    "By swapping one of the first or second segments of the parents, the children chromosomes \n",
    "<font color=\"green\">110001111000</font> and <font color=\"green\">011100101101</font> are created:<br>\n",
    "\n",
    "<font color=\"red\">110</font><font color=\"orange\">001111000</font><br>\n",
    "<font color=\"green\">011</font><font color=\"blue\">100101101</font><br>\n",
    "\n",
    "Finally, it should be noted that we need to specify a probability for the crossover operation.\n",
    "For example, the probability of 0.8 means that the two children are created from the crossover operation with the probability of 0.8, while they can be remaining the same as their parents, with the probability of 0.2.\n",
    "\n",
    "### Mutation\n",
    "As its name implies, the mutation operator creates a mutation in chromosome by reversing the value of a bit from 0 to 1, or from 1 to 0.\n",
    "For example, the chromosome<br>\n",
    "\n",
    "<font color=\"blue\">110</font><font color=\"red\">0</font><font color=\"blue\">001</font>\n",
    "\n",
    "can mutate into<br>\n",
    "\n",
    "<font color=\"blue\">110</font><font color=\"red\">1</font><font color=\"blue\">001</font>.\n",
    "\n",
    "The probability of mutation is usually very low, but it plays an important role in genetic algorithm.\n",
    "The mutation operator allows for exploring the unseen potential solutions which may have a higher fitness value.\n",
    "Having this measure in place helps GA to escape from the local optimal solutions, guiding towards more optimal, and hopefully, global optimal solution."
   ]
  },
  {
   "cell_type": "markdown",
   "metadata": {},
   "source": [
    "<a id='ga-python'></a>\n",
    "## Genetic algorithm implementation in Python\n",
    "\n",
    "In this section, we develop a genetic algorithm class in Python. In the following sections, we will use this class to solve some problems to demonstrate how the genetic algorithm works.\n",
    "\n",
    "In the following, you can see the Python code I have developed for the genetic algorithm. I have tried to document every step so it serves as a self-explanatory guide."
   ]
  },
  {
   "cell_type": "code",
   "execution_count": 3,
   "metadata": {},
   "outputs": [],
   "source": [
    "import numpy as np\n",
    "import matplotlib.pyplot as plt\n",
    "\n",
    "class ga:\n",
    "    def __init__(self, **kwargs):\n",
    "        \n",
    "        self.n_var = kwargs.pop(\"n_var\", 1)\n",
    "        self.n_gen = kwargs.pop(\"n_gen\", 10)\n",
    "        self.n_pop = kwargs.pop(\"n_pop\", 10)\n",
    "        \n",
    "        #--------------------------------------------------\n",
    "        #setting the number of bits\n",
    "        #--------------------------------------------------\n",
    "        \"\"\"\n",
    "        The variable \"n_bit\" is a list. For example, for a one-variable system:\n",
    "        n_bit=[8]\n",
    "        \n",
    "        Or, for a three-variable system:\n",
    "        n_bit=[8, 2, 16]\n",
    "        \"\"\"\n",
    "        self.n_bit = kwargs.pop(\"n_bit\", [8]*self.n_var)\n",
    "        \n",
    "        #--------------------------------------------------\n",
    "        #setting the bounds of variables\n",
    "        #--------------------------------------------------\n",
    "        \"\"\"\n",
    "        The variable \"bound\" is a list of list. For example, for a one-variable system:\n",
    "        bound=[[0,1]]\n",
    "        \n",
    "        Or, for a three-variable system:\n",
    "        bound=[[0,1], [-5,5], [0,10]]\n",
    "        \"\"\"\n",
    "        self.bound = kwargs.pop(\"bound\", [[0 , 1]]*self.n_var)\n",
    "\n",
    "        #--------------------------------------------------\n",
    "        #The \"k\" parameter in tournament selection\n",
    "        #--------------------------------------------------\n",
    "        self.tournament_k = kwargs.pop(\"tournament_k\", 3)\n",
    "\n",
    "        #--------------------------------------------------\n",
    "        #setting the objective function\n",
    "        #--------------------------------------------------\n",
    "        self.objective = kwargs.pop(\"objective\", self.objective_func)        \n",
    "\n",
    "        #--------------------------------------------------\n",
    "        #probability of crossover and mutation.\n",
    "        #--------------------------------------------------\n",
    "        self.p_c = kwargs.pop(\"p_c\", 0.8)\n",
    "        self.p_m = kwargs.pop(\"p_m\", 0.01)\n",
    "        \n",
    "        #--------------------------------------------------\n",
    "        # initial population\n",
    "        #--------------------------------------------------\n",
    "        #calculating the size of chromosomes\n",
    "        self.chrom_size = sum(self.n_bit)\n",
    "        #population of chroms\n",
    "        self.chrom_pop = np.random.randint(\n",
    "            0,2, size=self.n_pop*self.chrom_size).reshape((self.n_pop, self.chrom_size))\n",
    "        \n",
    "        #--------------------------------------------------\n",
    "        # initial declaration\n",
    "        #--------------------------------------------------\n",
    "        self.fit_vals = np.ones(self.n_pop)*-1e9\n",
    "        self.fit_max_list = np.array(())\n",
    "        self.this_iter = 0\n",
    "        \n",
    "        #--------------------------------------------------\n",
    "        #reproducibility by fixing the random seed\n",
    "        #--------------------------------------------------\n",
    "        if kwargs.get('np_random_seed', False):\n",
    "            np.random.seed(kwargs.pop('np_random_seed'))\n",
    "        \n",
    "        #--------------------------------------------------\n",
    "        #setting the precision only for verbose=True\n",
    "        #--------------------------------------------------\n",
    "        self.num_dec_var = 3\n",
    "        self.num_dec_fit = 3\n",
    "    \n",
    "    \n",
    "    def select_one_parent(self, tournament_k=3):\n",
    "        \"\"\"\n",
    "        selecting one parent chromosome based on \"tournament selection\"\n",
    "\n",
    "        Parameters\n",
    "        ----------\n",
    "        tournament_k : integer, optional\n",
    "            k in tournament selection. The default is 3.\n",
    "\n",
    "        Returns\n",
    "        -------\n",
    "        integer\n",
    "            index of selected parent chromosome from the population.\n",
    "\n",
    "        \"\"\"\n",
    "        ind_sel = np.random.choice(self.n_pop, tournament_k, replace=False)\n",
    "        ind_best_from_sel = np.argmax(self.fit_vals[ind_sel])\n",
    "        return ind_sel[ind_best_from_sel]\n",
    "    \n",
    "    def evolve(self, n_gen=None, verbose=True):\n",
    "        \"\"\"      \n",
    "        Evolution for a given number of iterations/generations\n",
    "\n",
    "        Parameters\n",
    "        ----------\n",
    "        n_gen : integer, optional\n",
    "            number of generations. The default is None.\n",
    "        verbose : Bool, optional\n",
    "            To display info while running. The default is True.\n",
    "\n",
    "        Returns\n",
    "        -------\n",
    "        None.\n",
    "\n",
    "        \"\"\"\n",
    "        #------------------------------------------------\n",
    "        #number of generations is set from object if not given\n",
    "        #------------------------------------------------\n",
    "        if n_gen is None:\n",
    "            n_gen = self.n_gen\n",
    "        \n",
    "        #------------------------------------------------\n",
    "        # Update fitness values\n",
    "        #------------------------------------------------\n",
    "        self.update_fitness()\n",
    "        \n",
    "        #------------------------------------------------\n",
    "        # evolving over generations\n",
    "        #------------------------------------------------\n",
    "        for sn_gen in range(n_gen):\n",
    "                \n",
    "            #--------------------------------------------\n",
    "            #selecting parents\n",
    "            #--------------------------------------------\n",
    "            ind_parents = [self.select_one_parent(tournament_k=self.tournament_k) \n",
    "                           for _ in range(self.n_pop)]\n",
    "            \n",
    "            #--------------------------------------------\n",
    "            #copying the population to undergo operations\n",
    "            #--------------------------------------------\n",
    "            self.chrom_pop2 = self.chrom_pop.copy()\n",
    "            \n",
    "            #--------------------------------------------\n",
    "            #crossover\n",
    "            #--------------------------------------------\n",
    "            for sn_pair in range(0, self.n_pop, 2):\n",
    "                p1 = self.chrom_pop[ind_parents[sn_pair]]\n",
    "                p2 = self.chrom_pop[ind_parents[sn_pair+1]]\n",
    "                self.chrom_pop2[sn_pair], self.chrom_pop2[sn_pair+1] = self.crossover(p1, p2, p_c=self.p_c)\n",
    "            \n",
    "            #--------------------------------------------\n",
    "            #mutation\n",
    "            #--------------------------------------------\n",
    "            for sn_chrom, chrom in enumerate(self.chrom_pop2):\n",
    "                self.chrom_pop2[sn_chrom] = self.mutate(chrom)\n",
    "\n",
    "            #--------------------------------------------\n",
    "            #replacing the population\n",
    "            #--------------------------------------------\n",
    "            self.chrom_pop = self.chrom_pop2.copy()\n",
    "            \n",
    "            #--------------------------------------------\n",
    "            #updating the fitness-related quantities\n",
    "            #--------------------------------------------\n",
    "            self.update_fitness()\n",
    "\n",
    "            #--------------------------------------------\n",
    "            #updating the counter\n",
    "            #--------------------------------------------\n",
    "            self.this_iter+=1\n",
    "            \n",
    "            #--------------------------------------------\n",
    "            #verbose\n",
    "            #--------------------------------------------\n",
    "            if verbose:\n",
    "                ind_best_chrom, best_chrom, best_chrom_decoded, best_chrom_fitness = self.get_best_chrom()\n",
    "                best_chrom_decoded = [np.around(this_var, decimals=self.num_dec_var) for this_var in best_chrom_decoded]\n",
    "                best_chrom_fitness = np.around(best_chrom_fitness, decimals=self.num_dec_fit)\n",
    "                print(f'iter: {self.this_iter} \\tbest chrom: {best_chrom_decoded} \\tmax fitness: {best_chrom_fitness}')\n",
    "        \n",
    "        #------------------------------------------------\n",
    "        # Plotting the max fitness value over generations\n",
    "        #------------------------------------------------\n",
    "        self.plot_fitness()\n",
    "            \n",
    "    def objective_func(self, x, **kwargs):\n",
    "        \"\"\"\n",
    "        This is the default function object for \"objective\".\n",
    "        It serves as a guideline when implementing your own objective function.\n",
    "        Particularly, input, x, is of the type \"list\". \n",
    "\n",
    "        Parameters\n",
    "        ----------\n",
    "        x : list\n",
    "            list of variables of the problem (a potential solution to be\n",
    "            assessed).\n",
    "        **kwargs : dict\n",
    "            any extra parameters that you may need in your obj. function.\n",
    "\n",
    "        Returns\n",
    "        -------\n",
    "        float\n",
    "            fitness value\n",
    "\n",
    "        \"\"\"\n",
    "        return -x[0]**2\n",
    "    \n",
    "    def get_best_chrom(self):\n",
    "        \"\"\"\n",
    "        outputting information on best chrom in population\n",
    "        \n",
    "        Returns\n",
    "        -------\n",
    "        ind_best_chrom : integer\n",
    "            index of best chromosome in the population.\n",
    "        best_chrom : array\n",
    "            binary encoding of best chromosome\n",
    "        best_chrom_decoded : list\n",
    "            list of variables for the best chrom\n",
    "        best_chrom_fitness : float\n",
    "            fitness value of best chrom\n",
    "\n",
    "        \"\"\"\n",
    "        ind_best_chrom = np.argmax(self.fit_vals)\n",
    "        best_chrom = self.chrom_pop[ind_best_chrom]\n",
    "        best_chrom_decoded = self.decode_entire_chrom(best_chrom)\n",
    "        best_chrom_fitness = self.fit_vals[ind_best_chrom]\n",
    "        return ind_best_chrom, best_chrom, best_chrom_decoded, best_chrom_fitness\n",
    "    \n",
    "    def decode_entire_chrom(self, chrom):\n",
    "        \"\"\"\n",
    "        decoding a given chromosome\n",
    "\n",
    "        Parameters\n",
    "        ----------\n",
    "        chrom : array\n",
    "            a binary encoded chromosome for one or multiple variables\n",
    "\n",
    "        Returns\n",
    "        -------\n",
    "        x : list\n",
    "            list of decoded variables of the passed chrom\n",
    "\n",
    "        \"\"\"\n",
    "        x=[]\n",
    "        ind_end = 0\n",
    "        for sn_var in range(self.n_var):\n",
    "            ind_start = ind_end\n",
    "            ind_end = ind_start+self.n_bit[sn_var]\n",
    "            this_var_decoded = self.decode(chrom[ind_start:ind_end], \n",
    "                                           low=self.bound[sn_var][0], \n",
    "                                           high=self.bound[sn_var][1])\n",
    "            x.append(this_var_decoded)\n",
    "        return x\n",
    "    \n",
    "    def eval_fit(self, chrom, **kwargs):\n",
    "        \"\"\"\n",
    "        evaluating the fitness of a given chrom\n",
    "\n",
    "        Parameters\n",
    "        ----------\n",
    "        chrom : array\n",
    "            a chromosome.\n",
    "        **kwargs : dict\n",
    "            a dict to pass any needed parameter when evaluating the fitness\n",
    "\n",
    "        Returns\n",
    "        -------\n",
    "        float\n",
    "            fitness value of the passed chrom\n",
    "\n",
    "        \"\"\"\n",
    "        x = self.decode_entire_chrom(chrom)\n",
    "        return self.objective(x, **kwargs)\n",
    "    \n",
    "    def plot_fitness(self):\n",
    "        \"\"\"\n",
    "        plotting the max fitness value over generations\n",
    "        \"\"\"\n",
    "        plt.plot(self.fit_max_list)\n",
    "    \n",
    "    def update_fitness(self, **kwargs):\n",
    "        \"\"\"\n",
    "        updating the fitness values\n",
    "\n",
    "        Parameters\n",
    "        ----------\n",
    "        **kwargs : dict\n",
    "            a dcit to pass any desired parameter to be used in fitness func\n",
    "\n",
    "        Returns\n",
    "        -------\n",
    "        None.\n",
    "        \"\"\"\n",
    "        for sn_chrom, chrom in enumerate(self.chrom_pop):\n",
    "            self.fit_vals[sn_chrom] = self.eval_fit(chrom, **kwargs)\n",
    "        self.fit_max_list = np.append(self.fit_max_list, self.fit_vals.max())\n",
    "    \n",
    "    @staticmethod\n",
    "    def decode(chrom, low=0, high=1):\n",
    "        \"\"\"\n",
    "        decoding a binary encoded array\n",
    "        \n",
    "        Parameters\n",
    "        ----------\n",
    "        chrom : array\n",
    "            binary encoded array\n",
    "        low : float, optional\n",
    "            lower limit of the space for binning. The default is 0.\n",
    "        high : float, optional\n",
    "            upper limit of the space for binning. The default is 1.\n",
    "\n",
    "        Returns\n",
    "        -------\n",
    "        x : float\n",
    "            decoded value of the passed binary-encoded array\n",
    "        \"\"\"\n",
    "        decoded_num = np.dot(chrom, 2**np.arange(chrom.size)[::-1])\n",
    "        x = low + decoded_num*(high-low)/(2**chrom.size-1)\n",
    "        return x\n",
    "    \n",
    "    @staticmethod\n",
    "    def binary_code(val, n_bit, low=0, high=None):\n",
    "        \"\"\"\n",
    "        binary encoding a float value\n",
    "\n",
    "        Parameters\n",
    "        ----------\n",
    "        val : float\n",
    "            value to be encoded\n",
    "        n_bit : integer\n",
    "            number of bits.\n",
    "        low : float, optional\n",
    "            lower limit of space for binning. The default is 0.\n",
    "        high : float, optional\n",
    "            upper limit of space for binning. The default is None.\n",
    "\n",
    "        Returns\n",
    "        -------\n",
    "        binary_val : array\n",
    "            binary representation of the passed float value.\n",
    "        \"\"\"\n",
    "        if high is None:\n",
    "            high=2**n_bit\n",
    "        binary_val = np.zeros(n_bit)\n",
    "        ind_bin_max=2**n_bit\n",
    "        ind_bin = int((val-low)/(high-low)*ind_bin_max)\n",
    "        if ind_bin>=ind_bin_max:\n",
    "            ind_bin=ind_bin_max-1\n",
    "        elif ind_bin<0:\n",
    "            ind_bin=0\n",
    "        str_val = bin(ind_bin).split('b')[1]\n",
    "        for sn, bit in enumerate(str_val[::-1]):\n",
    "            binary_val[-1-sn]=int(bit)\n",
    "        return binary_val\n",
    "    \n",
    "    def crossover(self, p1, p2, p_c=None):\n",
    "        \"\"\"\n",
    "        point cross-over operator\n",
    "\n",
    "        Parameters\n",
    "        ----------\n",
    "        p1 : array\n",
    "            parent #1.\n",
    "        p2 : array\n",
    "            parent #2.\n",
    "        p_c : float, optional\n",
    "            probability of cross-over. The default is None.\n",
    "\n",
    "        Returns\n",
    "        -------\n",
    "        chrom1 : array\n",
    "            child #1.\n",
    "        chrom2 : array\n",
    "            child #2.\n",
    "\n",
    "        \"\"\"\n",
    "        if p_c is None:\n",
    "            p_c=self.p_c\n",
    "        chrom1 = p1.copy()\n",
    "        chrom2 = p2.copy()\n",
    "        if np.random.rand()<p_c:\n",
    "            split_pos = np.random.randint(0, p1.size)\n",
    "            chrom1[split_pos:] = p2[split_pos:]\n",
    "            chrom2[split_pos:] = p1[split_pos:]   \n",
    "        return chrom1, chrom2\n",
    "    \n",
    "    def mutate(self, chrom, p_m=None):\n",
    "        \"\"\"\n",
    "        mutation operator\n",
    "\n",
    "        Parameters\n",
    "        ----------\n",
    "        chrom : array\n",
    "            chromosome.\n",
    "        p_m : float, optional\n",
    "            probability of mutation. The default is None.\n",
    "\n",
    "        Returns\n",
    "        -------\n",
    "        chrom : array\n",
    "            chrom after applying the operator.\n",
    "        \"\"\"\n",
    "        if p_m is None:\n",
    "            p_m=self.p_m\n",
    "        chrom = chrom.copy()\n",
    "        for sn, bit in enumerate(chrom):\n",
    "            if np.random.rand()<p_m:\n",
    "                chrom[sn] = 1 - bit\n",
    "        return chrom\n",
    "            \n",
    "    def print_pop(self):\n",
    "        \"\"\"\n",
    "        printing the population\n",
    "        \"\"\"\n",
    "        for chrom in self.chrom_pop:\n",
    "            print(chrom)"
   ]
  },
  {
   "cell_type": "markdown",
   "metadata": {},
   "source": [
    "<a id='examples'></a>\n",
    "## Examples\n",
    "Now, that we have developed a class for genetic algorithm, let's look at some examples demonstrating how it works."
   ]
  },
  {
   "cell_type": "markdown",
   "metadata": {},
   "source": [
    "<a id='example-1'></a>\n",
    "### Example #1:  Univariate function\n",
    "\n",
    "Let's consider the univariate function $f(x)=1-x^2+3x^3-x^4$. \n",
    "Our goal is to find the maximum of function over \\[-5,5\\] using the genetic algorithm.\n",
    "Let's define a function in Python:"
   ]
  },
  {
   "cell_type": "code",
   "execution_count": 4,
   "metadata": {},
   "outputs": [],
   "source": [
    "def obj_func(x):\n",
    "    \"\"\"\n",
    "    our fitness function\n",
    "\n",
    "    Parameters\n",
    "    ----------\n",
    "    x : list\n",
    "        list of variables of the problem.\n",
    "\n",
    "    Returns\n",
    "    -------\n",
    "    f : float\n",
    "        fitness value.\n",
    "    \"\"\"\n",
    "    f = 1-x[0]**2+3*x[0]**3-x[0]**4\n",
    "    return f"
   ]
  },
  {
   "cell_type": "markdown",
   "metadata": {},
   "source": [
    "This is how the function looks like:"
   ]
  },
  {
   "cell_type": "code",
   "execution_count": 5,
   "metadata": {},
   "outputs": [
    {
     "data": {
      "image/png": "[encoded data removed]",
      "text/plain": [
       "<Figure size 432x288 with 1 Axes>"
      ]
     },
     "metadata": {
      "needs_background": "light"
     },
     "output_type": "display_data"
    }
   ],
   "source": [
    "import matplotlib.pyplot as plt\n",
    "\n",
    "x=np.linspace(-5,5,101)\n",
    "f=[obj_func([x]) for x in x]\n",
    "plt.plot(x, f)\n",
    "plt.ylim(-10,6)\n",
    "plt.show()"
   ]
  },
  {
   "cell_type": "markdown",
   "metadata": {},
   "source": [
    "The coordinates of the maximum are (2, 5).\n",
    "\n",
    "Now, let's use the genetic algorithm.\n",
    "We instantiate the ***ga class*** and point to it with a variable named _prob_.\n",
    "We start with 5 bits to represent the single variable of our problem (**x**).\n",
    "We also consider 10 chromosomes in the population. \n",
    "The probability of cross-over and mutation is set to be 0.8 and 0.01, respectively.\n",
    "Here are the results for 10 generations:"
   ]
  },
  {
   "cell_type": "code",
   "execution_count": 6,
   "metadata": {},
   "outputs": [
    {
     "name": "stdout",
     "output_type": "stream",
     "text": [
      "iter: 1 \tbest chrom: [1.129] \tmax fitness: 2.418\n",
      "iter: 2 \tbest chrom: [1.129] \tmax fitness: 2.418\n",
      "iter: 3 \tbest chrom: [1.129] \tmax fitness: 2.418\n",
      "iter: 4 \tbest chrom: [2.419] \tmax fitness: 3.369\n",
      "iter: 5 \tbest chrom: [2.419] \tmax fitness: 3.369\n",
      "iter: 6 \tbest chrom: [2.419] \tmax fitness: 3.369\n",
      "iter: 7 \tbest chrom: [2.419] \tmax fitness: 3.369\n",
      "iter: 8 \tbest chrom: [2.419] \tmax fitness: 3.369\n",
      "iter: 9 \tbest chrom: [2.419] \tmax fitness: 3.369\n",
      "iter: 10 \tbest chrom: [2.419] \tmax fitness: 3.369\n"
     ]
    },
    {
     "data": {
      "image/png": "[encoded data removed]",
      "text/plain": [
       "<Figure size 432x288 with 1 Axes>"
      ]
     },
     "metadata": {
      "needs_background": "light"
     },
     "output_type": "display_data"
    }
   ],
   "source": [
    "n_var = 1\n",
    "n_bit_each_var=5\n",
    "\n",
    "bound=[[-5,5]]*n_var\n",
    "n_bit=[n_bit_each_var]*n_var\n",
    "prob = ga(objective=obj_func, \n",
    "          n_pop=10, n_gen=10, p_c=0.8, p_m=0.01,\n",
    "          n_var=n_var, n_bit=n_bit, bound=bound, \n",
    "          np_random_seed=12345)\n",
    "\n",
    "prob.evolve(n_gen=10, verbose=1)"
   ]
  },
  {
   "cell_type": "markdown",
   "metadata": {},
   "source": [
    "We can also get the best chromosome's detailed information as follows, wherein the first item of the output refers to the index of chromosome in the population, the second item shows the binary-encoded representation of the found optimal solution, the third component is the decoded solution, and the last component shows the fitness value of the found optimal solution."
   ]
  },
  {
   "cell_type": "code",
   "execution_count": 7,
   "metadata": {},
   "outputs": [
    {
     "data": {
      "text/plain": [
       "(0, array([1, 0, 1, 1, 1]), [2.419354838709677], 3.3693289053524538)"
      ]
     },
     "execution_count": 7,
     "metadata": {},
     "output_type": "execute_result"
    }
   ],
   "source": [
    "prob.get_best_chrom()"
   ]
  },
  {
   "cell_type": "markdown",
   "metadata": {},
   "source": [
    "If we print all the chromosomes available in the population after 10 generations, we have:"
   ]
  },
  {
   "cell_type": "code",
   "execution_count": 8,
   "metadata": {},
   "outputs": [
    {
     "name": "stdout",
     "output_type": "stream",
     "text": [
      "[1 0 1 1 1]\n",
      "[1 0 1 1 1]\n",
      "[1 0 1 1 1]\n",
      "[1 0 1 1 1]\n",
      "[1 0 1 1 1]\n",
      "[1 0 1 1 1]\n",
      "[1 0 1 1 1]\n",
      "[1 0 1 1 1]\n",
      "[1 0 1 1 1]\n",
      "[1 0 1 1 1]\n"
     ]
    }
   ],
   "source": [
    "prob.print_pop()"
   ]
  },
  {
   "cell_type": "markdown",
   "metadata": {},
   "source": [
    "You can see that all chromosomes are the same, and their decoded value is:"
   ]
  },
  {
   "cell_type": "code",
   "execution_count": 9,
   "metadata": {},
   "outputs": [
    {
     "name": "stdout",
     "output_type": "stream",
     "text": [
      "[2.419354838709677]\n",
      "[2.419354838709677]\n",
      "[2.419354838709677]\n",
      "[2.419354838709677]\n",
      "[2.419354838709677]\n",
      "[2.419354838709677]\n",
      "[2.419354838709677]\n",
      "[2.419354838709677]\n",
      "[2.419354838709677]\n",
      "[2.419354838709677]\n"
     ]
    }
   ],
   "source": [
    "for chrom in prob.chrom_pop:\n",
    "    print(prob.decode_entire_chrom(chrom))"
   ]
  },
  {
   "cell_type": "markdown",
   "metadata": {},
   "source": [
    "It is worth mentioning that the cross-over operation does not affect a pair of identical parents. So, when the population is filled with a specific chromosome, the only hope for a better chromosome in future is to have a mutation leading to a better chromosome. The fitter chromosome will then be selected for the next generation allowing a higher-quality generation to be obtained.\n",
    "\n",
    "To let mutation help the system, we need to either increase its occurrence probability, or run the GA for a larger number of generations. Here, we continue the GA for another 50 generations. Here are the results for the entire 60 generations:"
   ]
  },
  {
   "cell_type": "code",
   "execution_count": 10,
   "metadata": {},
   "outputs": [
    {
     "name": "stdout",
     "output_type": "stream",
     "text": [
      "iter: 11 \tbest chrom: [2.419] \tmax fitness: 3.369\n",
      "iter: 12 \tbest chrom: [2.419] \tmax fitness: 3.369\n",
      "iter: 13 \tbest chrom: [2.419] \tmax fitness: 3.369\n",
      "iter: 14 \tbest chrom: [2.419] \tmax fitness: 3.369\n",
      "iter: 15 \tbest chrom: [2.419] \tmax fitness: 3.369\n",
      "iter: 16 \tbest chrom: [2.419] \tmax fitness: 3.369\n",
      "iter: 17 \tbest chrom: [2.419] \tmax fitness: 3.369\n",
      "iter: 18 \tbest chrom: [1.774] \tmax fitness: 4.698\n",
      "iter: 19 \tbest chrom: [1.774] \tmax fitness: 4.698\n",
      "iter: 20 \tbest chrom: [1.774] \tmax fitness: 4.698\n",
      "iter: 21 \tbest chrom: [1.774] \tmax fitness: 4.698\n",
      "iter: 22 \tbest chrom: [1.774] \tmax fitness: 4.698\n",
      "iter: 23 \tbest chrom: [1.774] \tmax fitness: 4.698\n",
      "iter: 24 \tbest chrom: [1.774] \tmax fitness: 4.698\n",
      "iter: 25 \tbest chrom: [1.774] \tmax fitness: 4.698\n",
      "iter: 26 \tbest chrom: [1.774] \tmax fitness: 4.698\n",
      "iter: 27 \tbest chrom: [1.774] \tmax fitness: 4.698\n",
      "iter: 28 \tbest chrom: [1.774] \tmax fitness: 4.698\n",
      "iter: 29 \tbest chrom: [1.774] \tmax fitness: 4.698\n",
      "iter: 30 \tbest chrom: [1.774] \tmax fitness: 4.698\n",
      "iter: 31 \tbest chrom: [1.774] \tmax fitness: 4.698\n",
      "iter: 32 \tbest chrom: [1.774] \tmax fitness: 4.698\n",
      "iter: 33 \tbest chrom: [1.774] \tmax fitness: 4.698\n",
      "iter: 34 \tbest chrom: [1.774] \tmax fitness: 4.698\n",
      "iter: 35 \tbest chrom: [1.774] \tmax fitness: 4.698\n",
      "iter: 36 \tbest chrom: [1.774] \tmax fitness: 4.698\n",
      "iter: 37 \tbest chrom: [1.774] \tmax fitness: 4.698\n",
      "iter: 38 \tbest chrom: [1.774] \tmax fitness: 4.698\n",
      "iter: 39 \tbest chrom: [1.774] \tmax fitness: 4.698\n",
      "iter: 40 \tbest chrom: [2.097] \tmax fitness: 4.93\n",
      "iter: 41 \tbest chrom: [2.097] \tmax fitness: 4.93\n",
      "iter: 42 \tbest chrom: [2.097] \tmax fitness: 4.93\n",
      "iter: 43 \tbest chrom: [2.097] \tmax fitness: 4.93\n",
      "iter: 44 \tbest chrom: [2.097] \tmax fitness: 4.93\n",
      "iter: 45 \tbest chrom: [2.097] \tmax fitness: 4.93\n",
      "iter: 46 \tbest chrom: [2.097] \tmax fitness: 4.93\n",
      "iter: 47 \tbest chrom: [2.097] \tmax fitness: 4.93\n",
      "iter: 48 \tbest chrom: [2.097] \tmax fitness: 4.93\n",
      "iter: 49 \tbest chrom: [2.097] \tmax fitness: 4.93\n",
      "iter: 50 \tbest chrom: [2.097] \tmax fitness: 4.93\n",
      "iter: 51 \tbest chrom: [2.097] \tmax fitness: 4.93\n",
      "iter: 52 \tbest chrom: [2.097] \tmax fitness: 4.93\n",
      "iter: 53 \tbest chrom: [2.097] \tmax fitness: 4.93\n",
      "iter: 54 \tbest chrom: [2.097] \tmax fitness: 4.93\n",
      "iter: 55 \tbest chrom: [2.097] \tmax fitness: 4.93\n",
      "iter: 56 \tbest chrom: [2.097] \tmax fitness: 4.93\n",
      "iter: 57 \tbest chrom: [2.097] \tmax fitness: 4.93\n",
      "iter: 58 \tbest chrom: [2.097] \tmax fitness: 4.93\n",
      "iter: 59 \tbest chrom: [2.097] \tmax fitness: 4.93\n",
      "iter: 60 \tbest chrom: [2.097] \tmax fitness: 4.93\n"
     ]
    },
    {
     "data": {
      "image/png": "[encoded data removed]",
      "text/plain": [
       "<Figure size 432x288 with 1 Axes>"
      ]
     },
     "metadata": {
      "needs_background": "light"
     },
     "output_type": "display_data"
    }
   ],
   "source": [
    "prob.evolve(n_gen=50, verbose=1)"
   ]
  },
  {
   "cell_type": "markdown",
   "metadata": {},
   "source": [
    "We can see, that the maximum fitness value increases over time due to the more optimal solutions discovered by the mutation operation. Here is more information about the obtained optimal solution after 60 generations:"
   ]
  },
  {
   "cell_type": "code",
   "execution_count": 11,
   "metadata": {},
   "outputs": [
    {
     "data": {
      "text/plain": [
       "(0, array([1, 0, 1, 1, 0]), [2.096774193548387], 4.929824010498944)"
      ]
     },
     "execution_count": 11,
     "metadata": {},
     "output_type": "execute_result"
    }
   ],
   "source": [
    "prob.get_best_chrom()"
   ]
  },
  {
   "cell_type": "markdown",
   "metadata": {},
   "source": [
    "We can see that the obtained optimal solution has coordinates of (2.09677, 4.9298) which, now, are much closer to the exact optimal coordinates (2, 5).\n",
    "\n",
    "Again, looking at the chromosomes available in the population shows all chromosomes are identical at the end of 60 generation:"
   ]
  },
  {
   "cell_type": "code",
   "execution_count": 12,
   "metadata": {},
   "outputs": [
    {
     "name": "stdout",
     "output_type": "stream",
     "text": [
      "[1 0 1 1 0]\n",
      "[1 0 1 1 0]\n",
      "[1 0 1 1 0]\n",
      "[1 0 1 1 0]\n",
      "[1 0 1 1 0]\n",
      "[1 0 1 1 0]\n",
      "[1 0 1 1 0]\n",
      "[1 0 1 1 0]\n",
      "[1 0 1 1 0]\n",
      "[1 0 1 1 0]\n"
     ]
    }
   ],
   "source": [
    "prob.print_pop()"
   ]
  },
  {
   "cell_type": "markdown",
   "metadata": {},
   "source": [
    "### Effects of mutation probability\n",
    "\n",
    "Let's increase the mutation probability to 0.1. Here are the results for 10 generations. The results show a much better performance than the previous case with mutation probability to 0.01."
   ]
  },
  {
   "cell_type": "code",
   "execution_count": 13,
   "metadata": {},
   "outputs": [
    {
     "name": "stdout",
     "output_type": "stream",
     "text": [
      "iter: 1 \tbest chrom: [2.097] \tmax fitness: 4.93\n",
      "iter: 2 \tbest chrom: [2.097] \tmax fitness: 4.93\n",
      "iter: 3 \tbest chrom: [2.097] \tmax fitness: 4.93\n",
      "iter: 4 \tbest chrom: [2.097] \tmax fitness: 4.93\n",
      "iter: 5 \tbest chrom: [2.097] \tmax fitness: 4.93\n",
      "iter: 6 \tbest chrom: [2.097] \tmax fitness: 4.93\n",
      "iter: 7 \tbest chrom: [2.097] \tmax fitness: 4.93\n",
      "iter: 8 \tbest chrom: [2.097] \tmax fitness: 4.93\n",
      "iter: 9 \tbest chrom: [2.097] \tmax fitness: 4.93\n",
      "iter: 10 \tbest chrom: [2.097] \tmax fitness: 4.93\n"
     ]
    },
    {
     "data": {
      "image/png": "[encoded data removed]",
      "text/plain": [
       "<Figure size 432x288 with 1 Axes>"
      ]
     },
     "metadata": {
      "needs_background": "light"
     },
     "output_type": "display_data"
    }
   ],
   "source": [
    "n_var = 1\n",
    "n_bit_each_var=5\n",
    "\n",
    "bound=[[-5,5]]*n_var\n",
    "n_bit=[n_bit_each_var]*n_var\n",
    "prob = ga(objective=obj_func, \n",
    "          n_pop=10, n_gen=10, p_c=0.8, p_m=0.1,\n",
    "          n_var=n_var, n_bit=n_bit, bound=bound, \n",
    "          np_random_seed=12345)\n",
    "\n",
    "prob.evolve(n_gen=10, verbose=1)"
   ]
  },
  {
   "cell_type": "markdown",
   "metadata": {},
   "source": [
    "Below, you can see the results for mutation probability of 0.2 and 0.4."
   ]
  },
  {
   "cell_type": "code",
   "execution_count": 14,
   "metadata": {},
   "outputs": [
    {
     "name": "stdout",
     "output_type": "stream",
     "text": [
      "iter: 1 \tbest chrom: [2.419] \tmax fitness: 3.369\n",
      "iter: 2 \tbest chrom: [1.774] \tmax fitness: 4.698\n",
      "iter: 3 \tbest chrom: [1.774] \tmax fitness: 4.698\n",
      "iter: 4 \tbest chrom: [2.097] \tmax fitness: 4.93\n",
      "iter: 5 \tbest chrom: [2.097] \tmax fitness: 4.93\n",
      "iter: 6 \tbest chrom: [1.452] \tmax fitness: 3.629\n",
      "iter: 7 \tbest chrom: [2.097] \tmax fitness: 4.93\n",
      "iter: 8 \tbest chrom: [1.774] \tmax fitness: 4.698\n",
      "iter: 9 \tbest chrom: [2.097] \tmax fitness: 4.93\n",
      "iter: 10 \tbest chrom: [2.097] \tmax fitness: 4.93\n"
     ]
    },
    {
     "data": {
      "image/png": "[encoded data removed]",
      "text/plain": [
       "<Figure size 432x288 with 1 Axes>"
      ]
     },
     "metadata": {
      "needs_background": "light"
     },
     "output_type": "display_data"
    }
   ],
   "source": [
    "n_var = 1\n",
    "n_bit_each_var=5\n",
    "\n",
    "bound=[[-5,5]]*n_var\n",
    "n_bit=[n_bit_each_var]*n_var\n",
    "prob = ga(objective=obj_func, \n",
    "          n_pop=10, n_gen=10, p_c=0.8, p_m=0.2,\n",
    "          n_var=n_var, n_bit=n_bit, bound=bound, \n",
    "          np_random_seed=12345)\n",
    "\n",
    "prob.evolve(n_gen=10, verbose=1)"
   ]
  },
  {
   "cell_type": "code",
   "execution_count": 15,
   "metadata": {},
   "outputs": [
    {
     "name": "stdout",
     "output_type": "stream",
     "text": [
      "iter: 1 \tbest chrom: [1.774] \tmax fitness: 4.698\n",
      "iter: 2 \tbest chrom: [2.097] \tmax fitness: 4.93\n",
      "iter: 3 \tbest chrom: [2.419] \tmax fitness: 3.369\n",
      "iter: 4 \tbest chrom: [2.097] \tmax fitness: 4.93\n",
      "iter: 5 \tbest chrom: [1.774] \tmax fitness: 4.698\n",
      "iter: 6 \tbest chrom: [1.452] \tmax fitness: 3.629\n",
      "iter: 7 \tbest chrom: [2.097] \tmax fitness: 4.93\n",
      "iter: 8 \tbest chrom: [1.452] \tmax fitness: 3.629\n",
      "iter: 9 \tbest chrom: [2.097] \tmax fitness: 4.93\n",
      "iter: 10 \tbest chrom: [1.774] \tmax fitness: 4.698\n"
     ]
    },
    {
     "data": {
      "image/png": "[encoded data removed]",
      "text/plain": [
       "<Figure size 432x288 with 1 Axes>"
      ]
     },
     "metadata": {
      "needs_background": "light"
     },
     "output_type": "display_data"
    }
   ],
   "source": [
    "n_var = 1\n",
    "n_bit_each_var=5\n",
    "\n",
    "bound=[[-5,5]]*n_var\n",
    "n_bit=[n_bit_each_var]*n_var\n",
    "prob = ga(objective=obj_func, \n",
    "          n_pop=10, n_gen=10, p_c=0.8, p_m=0.4,\n",
    "          n_var=n_var, n_bit=n_bit, bound=bound, \n",
    "          np_random_seed=12345)\n",
    "\n",
    "prob.evolve(n_gen=10, verbose=1)"
   ]
  },
  {
   "cell_type": "markdown",
   "metadata": {},
   "source": [
    "If we keep increasing the mutation probability to 0.2 and 0.4, we see that the performance can deteriorate due to **too much exploration**. There should generally be a trade-off between <font color=\"red\">exploration</font> (looking at unseen potential solutions) and <font color=\"red\">exploitation</font> (exploiting what has already been experienced).\n",
    "The mutation probability of _1/L_, wherein _L_ denotes the chromosome length (number of bits in one chromosome), is usually a good starting point. It is equivalent to one mutation per chromosome in average."
   ]
  },
  {
   "cell_type": "markdown",
   "metadata": {},
   "source": [
    "<a id='example-2'></a>\n",
    "### Example #2: Multivariable & Multimodal Problem\n",
    "\n",
    "In this example, let's look at a multivariable (x and y) and multi-modal problem, _i.e._ an optimization problem with multiple local optimal solutions. \n",
    "Our goal is to find the global maximum of the following function:\n",
    "\n",
    "$r<a: f(r)=r(a-r)(sin(\\frac{2\\pi}{p}x)^2+cos(\\frac{2\\pi}{p}y)^2)$<br>\n",
    "$r>=a: f(r)=0$,<br>\n",
    "\n",
    "wherein _r_ shows the distance from the origin, _i.e._ $r=\\sqrt{x^2+y^2}$. Let's define this function in Python:"
   ]
  },
  {
   "cell_type": "code",
   "execution_count": 16,
   "metadata": {},
   "outputs": [],
   "source": [
    "def obj_func(x, a=5, p=3):\n",
    "    r = (x[0]**2+x[1]**2)**0.5\n",
    "    if r<a:\n",
    "        f=((np.sin(2*np.pi/p*x[0])**2+np.cos(2*np.pi/p*x[1]))**2)*r*(a-r)\n",
    "    else:\n",
    "        f=0        \n",
    "    return f"
   ]
  },
  {
   "cell_type": "markdown",
   "metadata": {},
   "source": [
    "And, a function to plot a given function using as contour or surface:"
   ]
  },
  {
   "cell_type": "code",
   "execution_count": 17,
   "metadata": {},
   "outputs": [],
   "source": [
    "def plot_func(x, y, func, type_plt=0):\n",
    "    lx=len(x)\n",
    "    ly=len(y)\n",
    "    f=np.zeros((lx, ly))\n",
    "    Y, X = np.meshgrid(x, y)\n",
    "    for i in range(lx):\n",
    "        for j in range(ly):\n",
    "            f[i,j]=func([x[i], y[j]])\n",
    "    print(f'f.max: {np.amax(f)}')\n",
    "\n",
    "    #contour plot\n",
    "    if type_plt==0:\n",
    "        fig = plt.figure()\n",
    "        plt.contourf(X,Y,f)\n",
    "        plt.colorbar()\n",
    "        plt.xlabel('x')\n",
    "        plt.ylabel('y')\n",
    "        plt.axis('equal')\n",
    "    \n",
    "    #surface plot\n",
    "    elif type_plt==1:\n",
    "        fig, ax = plt.subplots(subplot_kw={\"projection\": \"3d\"})\n",
    "        ax.plot_surface(X,Y,f)\n",
    "        plt.xlabel('x')\n",
    "        plt.ylabel('y')"
   ]
  },
  {
   "cell_type": "markdown",
   "metadata": {},
   "source": [
    "Here, is how our multi-modal function looks like for a=5 and p=3:"
   ]
  },
  {
   "cell_type": "code",
   "execution_count": 18,
   "metadata": {},
   "outputs": [
    {
     "name": "stdout",
     "output_type": "stream",
     "text": [
      "f.max: 24.685775129249524\n"
     ]
    },
    {
     "data": {
      "image/png": "[encoded data removed]",
      "text/plain": [
       "<Figure size 432x288 with 2 Axes>"
      ]
     },
     "metadata": {
      "needs_background": "light"
     },
     "output_type": "display_data"
    }
   ],
   "source": [
    "x=y=np.linspace(-5,5,150)\n",
    "plot_func(x, y, obj_func, 0)"
   ]
  },
  {
   "cell_type": "code",
   "execution_count": 19,
   "metadata": {},
   "outputs": [
    {
     "name": "stdout",
     "output_type": "stream",
     "text": [
      "f.max: 24.685775129249524\n"
     ]
    },
    {
     "data": {
      "image/png": "[encoded data removed]",
      "text/plain": [
       "<Figure size 432x288 with 1 Axes>"
      ]
     },
     "metadata": {
      "needs_background": "light"
     },
     "output_type": "display_data"
    }
   ],
   "source": [
    "plot_func(x, y, obj_func, 1)"
   ]
  },
  {
   "cell_type": "markdown",
   "metadata": {},
   "source": [
    "Now, let's use our developed genetic algorithm class to see how it performs on a multivariable and multimodal problem. \n",
    "\n",
    "We consider 8 bits for each variable of x and y. The population size is 100, and the probability of mutation and cross-over is 0.02 and 0.85, respectively. \n",
    "Here is the outcome of evolution for 50 generations:"
   ]
  },
  {
   "cell_type": "code",
   "execution_count": 20,
   "metadata": {},
   "outputs": [
    {
     "name": "stdout",
     "output_type": "stream",
     "text": [
      "iter: 1 \tbest chrom: [-2.235, -0.118] \tmax fitness: 23.962\n",
      "iter: 2 \tbest chrom: [-2.235, -0.118] \tmax fitness: 23.962\n",
      "iter: 3 \tbest chrom: [-2.235, -0.118] \tmax fitness: 23.962\n",
      "iter: 4 \tbest chrom: [-2.235, -0.118] \tmax fitness: 23.962\n",
      "iter: 5 \tbest chrom: [-2.235, -0.118] \tmax fitness: 23.962\n",
      "iter: 6 \tbest chrom: [-2.235, -0.039] \tmax fitness: 24.614\n",
      "iter: 7 \tbest chrom: [-2.235, -0.039] \tmax fitness: 24.614\n",
      "iter: 8 \tbest chrom: [-2.235, -0.039] \tmax fitness: 24.614\n",
      "iter: 9 \tbest chrom: [-2.235, -0.039] \tmax fitness: 24.614\n",
      "iter: 10 \tbest chrom: [-2.235, -0.039] \tmax fitness: 24.614\n",
      "iter: 11 \tbest chrom: [-2.235, -0.039] \tmax fitness: 24.614\n",
      "iter: 12 \tbest chrom: [-2.235, -0.039] \tmax fitness: 24.614\n",
      "iter: 13 \tbest chrom: [-2.235, -0.039] \tmax fitness: 24.614\n",
      "iter: 14 \tbest chrom: [-2.235, -0.039] \tmax fitness: 24.614\n",
      "iter: 15 \tbest chrom: [-2.235, -0.039] \tmax fitness: 24.614\n",
      "iter: 16 \tbest chrom: [-2.235, -0.039] \tmax fitness: 24.614\n",
      "iter: 17 \tbest chrom: [-2.235, -0.039] \tmax fitness: 24.614\n",
      "iter: 18 \tbest chrom: [-2.235, -0.039] \tmax fitness: 24.614\n",
      "iter: 19 \tbest chrom: [-2.235, -0.039] \tmax fitness: 24.614\n",
      "iter: 20 \tbest chrom: [-2.235, -0.039] \tmax fitness: 24.614\n",
      "iter: 21 \tbest chrom: [-2.235, -0.039] \tmax fitness: 24.614\n",
      "iter: 22 \tbest chrom: [-2.235, -0.039] \tmax fitness: 24.614\n",
      "iter: 23 \tbest chrom: [-2.235, -0.039] \tmax fitness: 24.614\n",
      "iter: 24 \tbest chrom: [-2.235, -0.039] \tmax fitness: 24.614\n",
      "iter: 25 \tbest chrom: [-2.235, -0.039] \tmax fitness: 24.614\n",
      "iter: 26 \tbest chrom: [-2.235, -0.039] \tmax fitness: 24.614\n",
      "iter: 27 \tbest chrom: [-2.235, -0.039] \tmax fitness: 24.614\n",
      "iter: 28 \tbest chrom: [-2.235, -0.039] \tmax fitness: 24.614\n",
      "iter: 29 \tbest chrom: [-2.235, -0.039] \tmax fitness: 24.614\n",
      "iter: 30 \tbest chrom: [-2.235, -0.039] \tmax fitness: 24.614\n",
      "iter: 31 \tbest chrom: [-2.235, -0.039] \tmax fitness: 24.614\n",
      "iter: 32 \tbest chrom: [-2.235, -0.039] \tmax fitness: 24.614\n",
      "iter: 33 \tbest chrom: [-2.235, -0.039] \tmax fitness: 24.614\n",
      "iter: 34 \tbest chrom: [-2.235, -0.039] \tmax fitness: 24.614\n",
      "iter: 35 \tbest chrom: [-2.235, -0.039] \tmax fitness: 24.614\n",
      "iter: 36 \tbest chrom: [-2.235, -0.039] \tmax fitness: 24.614\n",
      "iter: 37 \tbest chrom: [-2.235, -0.039] \tmax fitness: 24.614\n",
      "iter: 38 \tbest chrom: [-2.235, -0.039] \tmax fitness: 24.614\n",
      "iter: 39 \tbest chrom: [-2.235, -0.039] \tmax fitness: 24.614\n",
      "iter: 40 \tbest chrom: [-2.235, -0.039] \tmax fitness: 24.614\n",
      "iter: 41 \tbest chrom: [-2.235, -0.039] \tmax fitness: 24.614\n",
      "iter: 42 \tbest chrom: [-2.235, -0.039] \tmax fitness: 24.614\n",
      "iter: 43 \tbest chrom: [-2.235, -0.039] \tmax fitness: 24.614\n",
      "iter: 44 \tbest chrom: [-2.235, -0.039] \tmax fitness: 24.614\n",
      "iter: 45 \tbest chrom: [-2.235, -0.039] \tmax fitness: 24.614\n",
      "iter: 46 \tbest chrom: [-2.235, -0.039] \tmax fitness: 24.614\n",
      "iter: 47 \tbest chrom: [-2.235, -0.039] \tmax fitness: 24.614\n",
      "iter: 48 \tbest chrom: [-2.235, -0.039] \tmax fitness: 24.614\n",
      "iter: 49 \tbest chrom: [-2.235, -0.039] \tmax fitness: 24.614\n",
      "iter: 50 \tbest chrom: [-2.235, -0.039] \tmax fitness: 24.614\n"
     ]
    },
    {
     "data": {
      "image/png": "[encoded data removed]",
      "text/plain": [
       "<Figure size 432x288 with 1 Axes>"
      ]
     },
     "metadata": {
      "needs_background": "light"
     },
     "output_type": "display_data"
    }
   ],
   "source": [
    "n_var = 2\n",
    "n_bit_each_var=8\n",
    "\n",
    "bound=[[-10, 10]]*n_var\n",
    "n_bit=[n_bit_each_var]*n_var\n",
    "prob = ga(objective=obj_func, \n",
    "          n_pop=100, n_gen=10, p_c=0.85, p_m=0.02,\n",
    "          n_var=n_var, n_bit=n_bit, bound=bound, \n",
    "          np_random_seed=12345)\n",
    "\n",
    "prob.evolve(n_gen=50, verbose=1)"
   ]
  },
  {
   "cell_type": "markdown",
   "metadata": {},
   "source": [
    "The specific function studied here (with the specified _a_ and _p_ values) has two global maximums with the magnitude of $\\sim 24.7$. \n",
    "In this case, the genetic algorithm converged to the maximum on the positive side of x-direction. You may see other results on your machine, particularly by using a seed number (_np_random_seed_ in the constructor of _ga_ class) different from what we used here."
   ]
  },
  {
   "cell_type": "markdown",
   "metadata": {},
   "source": [
    "<a id='recap'></a>\n",
    "## Recap\n",
    "\n",
    "\\- Genetic algorithm (GA) is a stochastic optimization technique inspired by the process of natural selection. \n",
    "\n",
    "\\- It aims at finding a partial search algorithm that may provide a sufficiently good solution for a given optimization problem. \n",
    "\n",
    "\\- Genetic algorithm tries to use the biologically-inspired operators such as mutation, crossover and selection to let potential solutions to ***evolve*** over time, from one generation to another, towards higher quality solutions.\n",
    "\n",
    "\\- The ***crossover*** operation aims at producing higher quality children from their parents, while ***mutation*** allows exploring unseen potential solutions.\n",
    "\n",
    "\\- When setting the mutation probability, you should consider a trade-off between exploration (looking at unseen potential solutions) and exploitation (exploiting what has already been experienced)."
   ]
  },
  {
   "cell_type": "markdown",
   "metadata": {},
   "source": [
    "<a id='quiz'></a>\n",
    "## Quiz\n",
    "Finally, I end this tutorial with a quiz!\n",
    "\n",
    "1\\. What will happen if you set the mutation probability equal to 0?<br>\n",
    "\n",
    "2\\. What will happen if you set the mutation probability equal to 1?<br>"
   ]
  },
  {
   "cell_type": "markdown",
   "metadata": {},
   "source": [
    "## Final remarks\n",
    "\n",
    "In this tutorial, we introduced the basics of ***Genetic algorithm*** and implemented this method in Python language.\n",
    "We discussed that genetic algorithm (GA) is a stochastic optimization method inspired by the phenomenon of evolution.\n",
    "The GA aims at finding a partial search algorithm that may provide a sufficiently good solution for a given optimization problem.\n",
    "It uses the biologically-inspired operations such as mutation, crossover and selection to allow the potential solutions to evolve, from one generation to another, towards the higher quality solutions.\n",
    "\n",
    "We saw that mutation allows exploring unseen potential solutions, which is crucially important to help the optimizer to escape from the local optimal solution. However, there should be a trade-off between exploration (looking at unseen potential solutions) and exploitation (exploiting what has already been experienced). A too much large mutation ratio results in too much noise, not allowing the GA to converge.\n",
    "\n",
    "I hope you found this article useful.\n",
    "Please do not hesitate to let us know if you have any questions or comments by leaving a note below, or [contacting us](https://soardeepsci.com/contact/).\n",
    "Also, please feel free to check out the rest of the articles on [SoarDeepSci](https://soardeepsci.com/blog/)."
   ]
  }
 ],
 "metadata": {
  "kernelspec": {
   "display_name": "Python 3 (ipykernel)",
   "language": "python",
   "name": "python3"
  },
  "language_info": {
   "codemirror_mode": {
    "name": "ipython",
    "version": 3
   },
   "file_extension": ".py",
   "mimetype": "text/x-python",
   "name": "python",
   "nbconvert_exporter": "python",
   "pygments_lexer": "ipython3",
   "version": "3.9.7"
  }
 },
 "nbformat": 4,
 "nbformat_minor": 4
}
